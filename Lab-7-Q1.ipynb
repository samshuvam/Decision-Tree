{
  "nbformat": 4,
  "nbformat_minor": 0,
  "metadata": {
    "colab": {
      "provenance": []
    },
    "kernelspec": {
      "name": "python3",
      "display_name": "Python 3"
    },
    "language_info": {
      "name": "python"
    }
  },
  "cells": [
    {
      "cell_type": "code",
      "execution_count": 70,
      "metadata": {
        "id": "l7Q_llUoKEI6"
      },
      "outputs": [],
      "source": [
        "# import numpy as np\n",
        "# import pandas as pd\n",
        "# from IPython import get_ipython\n",
        "# from IPython.display import display\n",
        "\n",
        "from graphviz import Digraph\n",
        "from IPython.display import Image\n",
        "import numpy as np\n",
        "import pandas as pd"
      ]
    },
    {
      "cell_type": "code",
      "source": [
        "# def importdata():\n",
        "#     return pd.read_csv(\"PlayTennis.csv\")\n",
        "#     data = importdata()\n",
        "\n",
        "\n",
        "# data=pd.read_csv('PlayTennis.csv')\n",
        "\n",
        "data = pd.read_csv('PlayTennis.csv')\n",
        "data[\"target\"] = data['play']"
      ],
      "metadata": {
        "id": "xU69n0T6KMkb"
      },
      "execution_count": 71,
      "outputs": []
    },
    {
      "cell_type": "code",
      "source": [
        "# def importdata():\n",
        "#     return pd.read_csv(\"PlayTennis.csv\")\n",
        "#     data = importdata()\n",
        "\n",
        "print(\"Dataset Length: \", len(data))\n",
        "print(\"Dataset Shape: \", data.shape)\n",
        "data[\"target\"] = data['play']"
      ],
      "metadata": {
        "colab": {
          "base_uri": "https://localhost:8080/"
        },
        "id": "cegjIE7kKTQ_",
        "outputId": "04f6641e-42c9-4478-a555-cfe96ee1ee22"
      },
      "execution_count": 72,
      "outputs": [
        {
          "output_type": "stream",
          "name": "stdout",
          "text": [
            "Dataset Length:  14\n",
            "Dataset Shape:  (14, 6)\n"
          ]
        }
      ]
    },
    {
      "cell_type": "code",
      "source": [
        "# def entropy(target_col):\n",
        "#     elements,counts = np.unique(target_col,return_counts = True)\n",
        "#     entropy = np.sum([(-counts[i]/np.sum(counts))*np.log2(counts[i]/np.sum(counts)) for i in range(len(elements))])\n",
        "#     return entropy\n",
        "# data = importdata()\n",
        "# entropy(data['PlayTennis.csv'])"
      ],
      "metadata": {
        "id": "BdDHjDVAKjbV"
      },
      "execution_count": 73,
      "outputs": []
    },
    {
      "cell_type": "code",
      "source": [
        "# Function to calculate entropy\n",
        "\n",
        "\n",
        "# def Entropy(data):\n",
        "#   d=data.iloc[:,-1]\n",
        "#   d=d.value_counts()\n",
        "#   s=0\n",
        "#   for v in d.keys():\n",
        "#     s+=(-d[v]/len(data))*np.log2(d[v]/len(data))\n",
        "#   return s\n",
        "def Entropy(data):\n",
        "    d = data.iloc[:, -1]\n",
        "    d = d.value_counts()\n",
        "    s = 0\n",
        "    for v in d.keys():\n",
        "        s += (-d[v] / len(data)) * np.log2(d[v] / len(data))\n",
        "    return s"
      ],
      "metadata": {
        "id": "Q5igfKW-Lupj"
      },
      "execution_count": 74,
      "outputs": []
    },
    {
      "cell_type": "code",
      "source": [
        "total_entropy = Entropy(data)\n",
        "print(f\"Total Entropy: {total_entropy}\")"
      ],
      "metadata": {
        "colab": {
          "base_uri": "https://localhost:8080/"
        },
        "id": "Lk-tEr9bQy2w",
        "outputId": "6f2ba05b-d37f-4bc1-ac09-c941e366d0cd"
      },
      "execution_count": 75,
      "outputs": [
        {
          "output_type": "stream",
          "name": "stdout",
          "text": [
            "Total Entropy: 0.9402859586706311\n"
          ]
        }
      ]
    },
    {
      "cell_type": "code",
      "source": [
        "def values(attr):\n",
        "  l=[]\n",
        "  for x in attr:\n",
        "    if x not in l:\n",
        "      l.append(x)\n",
        "  return l"
      ],
      "metadata": {
        "id": "N1-m-c9hM-1b"
      },
      "execution_count": 76,
      "outputs": []
    },
    {
      "cell_type": "code",
      "source": [
        "def IG(data, attr):\n",
        "    Es = Entropy(data)\n",
        "    val = values(data[attr])\n",
        "    s_c = data[attr].value_counts()\n",
        "    s_v = []\n",
        "\n",
        "    for v in val:\n",
        "        ds = data[data[attr] == v]\n",
        "        s = 0\n",
        "        for res in values(data.iloc[:, -1]):\n",
        "            try:\n",
        "                pi = ds.iloc[:, -1].value_counts()[res] / len(ds)\n",
        "                s -= (pi) * np.log2(pi)\n",
        "            except:\n",
        "                s = 0\n",
        "        s_v.append(s)\n",
        "\n",
        "    # Calculate information gain\n",
        "    for i in range(len(val)):\n",
        "        Es -= (s_c[val[i]] * s_v[i] / sum(s_c))\n",
        "\n",
        "    return Es"
      ],
      "metadata": {
        "id": "_taRRn6EaO3x"
      },
      "execution_count": 77,
      "outputs": []
    },
    {
      "cell_type": "code",
      "source": [
        "def values(attr):\n",
        "    return list(set(attr))"
      ],
      "metadata": {
        "id": "1GaT-J_gcHa8"
      },
      "execution_count": 78,
      "outputs": []
    },
    {
      "cell_type": "code",
      "source": [
        "def DTClassifier(data, features):\n",
        "    # Base cases: pure leaf node or no features left\n",
        "    if len(np.unique(data.iloc[:, -1])) == 1:\n",
        "        return np.unique(data.iloc[:, -1])[0]\n",
        "    elif len(data) == 0 or len(features) == 0:\n",
        "        return np.unique(data.iloc[:, -1])[np.argmax(np.unique(data.iloc[:, -1], return_counts=True)[1])]\n",
        "\n",
        "    # Recursive case: pick the best feature\n",
        "    item_values = [IG(data, feature) for feature in features]\n",
        "    best_feature_index = np.argmax(item_values)\n",
        "    best_feature = features[best_feature_index]\n",
        "\n",
        "    # Create tree root with the best feature\n",
        "    tree = {best_feature: {}}\n",
        "    features = [i for i in features if i != best_feature]  # Exclude this feature\n",
        "\n",
        "    # Recursively create subtrees for each value of the best feature\n",
        "    for value in np.unique(data[best_feature]):\n",
        "        sub_data = data.where(data[best_feature] == value).dropna()\n",
        "        subtree = DTClassifier(sub_data, features)\n",
        "        tree[best_feature][value] = subtree\n",
        "\n",
        "    return tree"
      ],
      "metadata": {
        "id": "cjMmjF-IN0x3"
      },
      "execution_count": 79,
      "outputs": []
    },
    {
      "cell_type": "code",
      "source": [
        "# Create and visualize the decision tree\n",
        "def visualize_tree(tree, graph=None, node_id=0):\n",
        "    if graph is None:\n",
        "        graph = Digraph()\n",
        "\n",
        "    # Recursively visualize each node of the tree\n",
        "    if isinstance(tree, dict):\n",
        "        node_label = list(tree.keys())[0]\n",
        "        graph.node(str(node_id), node_label)\n",
        "\n",
        "        for value, subtree in tree[node_label].items():\n",
        "            new_node_id = node_id + len(graph.body)\n",
        "            graph.edge(str(node_id), str(new_node_id), label=str(value))\n",
        "            visualize_tree(subtree, graph, new_node_id)\n",
        "    else:\n",
        "        graph.node(str(node_id), str(tree))  # Leaf node\n",
        "\n",
        "    return graph"
      ],
      "metadata": {
        "id": "xuL8QpSQaptf"
      },
      "execution_count": 80,
      "outputs": []
    },
    {
      "cell_type": "code",
      "source": [
        "# Assuming DT_dict is the output of DTClassifier\n",
        "features_used = list(data.columns[:-1])  # All columns except target\n",
        "tree = DTClassifier(data, features_used)"
      ],
      "metadata": {
        "id": "iF3Vbe7dcQuz"
      },
      "execution_count": 81,
      "outputs": []
    },
    {
      "cell_type": "code",
      "source": [
        "graph = visualize_tree(tree)"
      ],
      "metadata": {
        "id": "tXZo2ulPcSlo"
      },
      "execution_count": 82,
      "outputs": []
    },
    {
      "cell_type": "code",
      "source": [
        "# Render and display the final tree\n",
        "graph.render('full_decision_tree', format='png')\n",
        "display(Image('full_decision_tree.png'))"
      ],
      "metadata": {
        "colab": {
          "base_uri": "https://localhost:8080/",
          "height": 192
        },
        "id": "WQOJnXy0a2v1",
        "outputId": "aeb27141-fe3e-4f2b-e3d1-75c64cf460d8"
      },
      "execution_count": 83,
      "outputs": [
        {
          "output_type": "display_data",
          "data": {
            "image/png": "[encoded data removed]",
            "text/plain": [
              "<IPython.core.display.Image object>"
            ]
          },
          "metadata": {}
        }
      ]
    },
    {
      "cell_type": "code",
      "source": [
        "# print(values(data['outlook']))\n",
        "# # Calculate the entropy of the target variable\n",
        "# # total_entropy = Entropy(data)\n",
        "# # print(f\"Total Entropy: {total_entropy}\")\n",
        "\n",
        "\n",
        "\n",
        "# # Calculate the IG for each attribute\n",
        "\n",
        "# # for attr in data.columns[:-1]:\n",
        "# #   ig = IG(data, attr)\n",
        "# #   print(f\"IG for {attr}: {ig}\")"
      ],
      "metadata": {
        "colab": {
          "base_uri": "https://localhost:8080/"
        },
        "id": "PjyaMKpYQlHH",
        "outputId": "b14c3ac7-ac83-4c51-a151-5ea04eec03d7"
      },
      "execution_count": 84,
      "outputs": [
        {
          "output_type": "stream",
          "name": "stdout",
          "text": [
            "['rainy', 'overcast', 'sunny']\n"
          ]
        }
      ]
    },
    {
      "cell_type": "code",
      "source": [
        "# class Node():\n",
        "#     def init(self, name=None, attr=None):\n",
        "#         self.name = name\n",
        "#         self.attr = attr\n",
        "\n",
        "#     def call_(self):\n",
        "#         return self.name\n",
        "\n",
        "\n",
        "# def DTNode(data, features_used):\n",
        "#     node = Node()\n",
        "#     IGmax = 0\n",
        "#     v_best = None\n",
        "#     val_list = [v for v in data.columns[:-1] if v not in features_used]\n",
        "\n",
        "#     if val_list != []:\n",
        "#         for v in val_list:\n",
        "#             ig = IG(data, v)\n",
        "#             if ig > IGmax:\n",
        "#                 IGmax = ig\n",
        "#                 v_best = v\n",
        "\n",
        "#         if v_best:\n",
        "#             features_used.append(v_best)\n",
        "#             node.name = v_best\n",
        "#             node.attr = data[v_best].unique()\n",
        "#             return node\n",
        "#         else:\n",
        "#             return None\n",
        "\n",
        "#     return None\n",
        "\n",
        "\n",
        "# def DTClassifier(data, features_used):\n",
        "#     root = DTNode(data, features_used)\n",
        "#     DT_dict = {}\n",
        "\n",
        "#     if root is not None:\n",
        "#         item = []\n",
        "#         for attr in root.attr:\n",
        "#             dataN = data[data[root.name] == attr]\n",
        "#             if Entropy(dataN) == 0:\n",
        "#                 item.append((attr, dataN.iloc[:, -1].unique()[0]))\n",
        "#             else:\n",
        "#                 dt = DTClassifier(dataN, features_used)\n",
        "#                 item.append((attr, dt))\n",
        "\n",
        "#         DT_dict[root.name] = item\n",
        "\n",
        "#     return DT_dict\n"
      ],
      "metadata": {
        "id": "ebBARcSTS1LW"
      },
      "execution_count": 85,
      "outputs": []
    },
    {
      "cell_type": "code",
      "source": [
        "# from graphviz import Digraph\n",
        "\n",
        "# def visualize_tree(tree, graph=None):\n",
        "#   if graph is None:\n",
        "#     graph = Digraph()\n",
        "#   node_id = str(id(tree))\n",
        "#   if type(tree) == dict:\n",
        "#     graph.node(node_id, list(tree.keys())[0])\n",
        "#     for edge, subtree in list(tree.values())[0]:\n",
        "#       child_id = visualize_tree(subtree, graph)\n",
        "#       graph.edge(node_id, child_id, label=str(edge))\n",
        "#   else:\n",
        "#     graph.node(node_id, str(tree))\n",
        "#   return node_id\n",
        "\n",
        "# # Assuming DT_dict is the output of DTClassifier\n",
        "# features_used = []\n",
        "# tree = DTClassifier(data, features_used)\n",
        "# graph = visualize_tree(tree)\n",
        "# display(graph)"
      ],
      "metadata": {
        "id": "PwsxustKTdsC"
      },
      "execution_count": 86,
      "outputs": []
    },
    {
      "source": [
        "# from graphviz import Digraph\n",
        "# from IPython.display import Image\n",
        "\n",
        "# def visualize_tree(tree, graph=None, node_id=0):\n",
        "#     if graph is None:\n",
        "#         graph = Digraph()\n",
        "\n",
        "#     # Each node should have a unique identifier\n",
        "#     node_label = str(tree)\n",
        "#     graph.node(str(node_id), node_label)\n",
        "\n",
        "#     # Recursively visualize left and right branches (if they exist)\n",
        "#     if isinstance(tree, dict):\n",
        "#         for branch in tree:\n",
        "#             new_node_id = node_id + 1\n",
        "#             graph.edge(str(node_id), str(new_node_id), label=branch)\n",
        "#             visualize_tree(tree[branch], graph, new_node_id)\n",
        "\n",
        "#     return graph\n",
        "\n",
        "# # Assuming DT_dict is the output of DTClassifier\n",
        "# features_used = []\n",
        "# tree = DTClassifier(data, features_used)\n",
        "# graph = visualize_tree(tree)\n",
        "\n",
        "# # Render and display the graph\n",
        "# graph.render('graph', format='png')\n",
        "# display(Image('graph.png'))"
      ],
      "cell_type": "code",
      "metadata": {
        "id": "_Ih-2QVsUyNV"
      },
      "execution_count": 87,
      "outputs": []
    }
  ]
}